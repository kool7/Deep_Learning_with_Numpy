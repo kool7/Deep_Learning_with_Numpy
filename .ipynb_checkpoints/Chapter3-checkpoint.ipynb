{
 "cells": [
  {
   "cell_type": "markdown",
   "metadata": {},
   "source": [
    "## Neural Network\n",
    "## 1. Making prediction with single input"
   ]
  },
  {
   "cell_type": "code",
   "execution_count": 3,
   "metadata": {},
   "outputs": [],
   "source": [
    "weight = 0.1\n",
    "input = 8.5\n",
    "def nn(input, weight):\n",
    "    prediction = input * weight\n",
    "    return prediction"
   ]
  },
  {
   "cell_type": "code",
   "execution_count": 4,
   "metadata": {},
   "outputs": [
    {
     "name": "stdout",
     "output_type": "stream",
     "text": [
      "0.8500000000000001\n"
     ]
    }
   ],
   "source": [
    "pred = nn(input,weight)\n",
    "print(pred)"
   ]
  },
  {
   "cell_type": "markdown",
   "metadata": {},
   "source": [
    "## 2. Making prediction with multiple inputs"
   ]
  },
  {
   "cell_type": "code",
   "execution_count": 6,
   "metadata": {},
   "outputs": [],
   "source": [
    "weight = [0.1, 0.2, 0]\n",
    "\n",
    "toes = [8.5, 9.5, 9.9, 9.0] \n",
    "wlrec = [0.65, 0.8, 0.8, 0.9] \n",
    "nfans = [1.2, 1.3, 0.5, 1.0] \n",
    "input = [toes[0],wlrec[0],nfans[0]]\n"
   ]
  },
  {
   "cell_type": "code",
   "execution_count": 8,
   "metadata": {},
   "outputs": [],
   "source": [
    "# performing weighted sum of inputs\n",
    "def w_sum(a, b):\n",
    "    assert (len(a) == len(b))\n",
    "    output = 0\n",
    "    \n",
    "    for i in range(len(a)):\n",
    "        output += a[i] * b[i]\n",
    "    return output\n",
    "\n",
    "# netowrk for weighted sum\n",
    "def neural_network(input, weight):\n",
    "    pred = w_sum(input, weight)\n",
    "    return pred"
   ]
  },
  {
   "cell_type": "code",
   "execution_count": 35,
   "metadata": {},
   "outputs": [
    {
     "name": "stdout",
     "output_type": "stream",
     "text": [
      "0.9800000000000001\n"
     ]
    }
   ],
   "source": [
    "#pred = neural_network(input, weight)\n",
    "print(pred)"
   ]
  },
  {
   "cell_type": "markdown",
   "metadata": {},
   "source": [
    "## With Numpy"
   ]
  },
  {
   "cell_type": "code",
   "execution_count": 33,
   "metadata": {},
   "outputs": [],
   "source": [
    "import numpy as np\n",
    "\n",
    "weights = np.array([0.1, 0.2, 0])\n",
    "input = np.array([toes[0],wlrec[0],nfans[0]])"
   ]
  },
  {
   "cell_type": "code",
   "execution_count": 34,
   "metadata": {},
   "outputs": [
    {
     "name": "stdout",
     "output_type": "stream",
     "text": [
      "0.9800000000000001\n"
     ]
    }
   ],
   "source": [
    "def nnpy(input, weights):\n",
    "    pred = input.dot(weights)\n",
    "    return pred\n",
    "\n",
    "pred1 = nnpy(input, weights)\n",
    "print(pred1)"
   ]
  },
  {
   "cell_type": "markdown",
   "metadata": {},
   "source": [
    "## 3. Making predicition with multiple outputs and single input"
   ]
  },
  {
   "cell_type": "code",
   "execution_count": 41,
   "metadata": {},
   "outputs": [],
   "source": [
    "# elementwise multiplication\n",
    "def elementwise_mult(a, b):\n",
    "    assert (len(a) == len(b))\n",
    "    output = []\n",
    "    \n",
    "    for i in range(len(a)):\n",
    "        output[i] = a[i] * b[i]\n",
    "    return output"
   ]
  },
  {
   "cell_type": "code",
   "execution_count": 42,
   "metadata": {},
   "outputs": [
    {
     "name": "stdout",
     "output_type": "stream",
     "text": [
      "8.1\n"
     ]
    }
   ],
   "source": [
    "predmult = elementwise_multiplication(toes, wlrec)\n",
    "print(predmult)"
   ]
  },
  {
   "cell_type": "code",
   "execution_count": 43,
   "metadata": {},
   "outputs": [
    {
     "name": "stdout",
     "output_type": "stream",
     "text": [
      "[ 0  5 12 21]\n"
     ]
    }
   ],
   "source": [
    "a = np.array([0,1,2,3]) \n",
    "b = np.array([4,5,6,7]) \n",
    "print(a * b) \n"
   ]
  },
  {
   "cell_type": "markdown",
   "metadata": {},
   "source": [
    "## 4. Predicting with multiple inputs and outputs \n",
    "\n",
    "Neural networks can predict multiple outputs given\n",
    "multiple inputs."
   ]
  },
  {
   "cell_type": "code",
   "execution_count": 57,
   "metadata": {},
   "outputs": [],
   "source": [
    "weights_four = [[0.1, 0.1, -0.3], # hurt?\n",
    "           [0.1, 0.2, 0.0], # win?\n",
    "           [0.0, 1.3, 0.1]] # sad?\n",
    "\n",
    "toes = [8.5, 9.5, 9.9, 9.0]\n",
    "wlrec = [0.65,0.8, 0.8, 0.9]\n",
    "nfans = [1.2, 1.3, 0.5, 1.0]\n",
    "input_four = [toes[0],wlrec[0],nfans[0]]\n"
   ]
  },
  {
   "cell_type": "code",
   "execution_count": 58,
   "metadata": {},
   "outputs": [],
   "source": [
    "# weighted sum of inputs\n",
    "def w_sum(a, b):\n",
    "    assert(len(a) == len(b))\n",
    "    output = 0\n",
    "    \n",
    "    for i in range(len(a)):\n",
    "        output += a[i] * b[i]\n",
    "    return output\n",
    "\n",
    "# for eah output perfrom weighted sum of inputs\n",
    "def vect_mat_mult(vector, matrix):\n",
    "    assert(len(vector) == len(matrix))\n",
    "    output = [0, 0, 0]\n",
    "    \n",
    "    for i in range(len(vector)):\n",
    "        output[i] += w_sum(vector, matrix[i]) \n",
    "    return output\n",
    "\n",
    "# NN for multiple inputs and outputs\n",
    "def neural_network_four(input_four, weights_four):\n",
    "    pred = vect_mat_mult(input, weights)\n",
    "    return pred"
   ]
  },
  {
   "cell_type": "code",
   "execution_count": 60,
   "metadata": {},
   "outputs": [
    {
     "name": "stdout",
     "output_type": "stream",
     "text": [
      "[0.555, 0.9800000000000001, 0.9650000000000001]\n"
     ]
    }
   ],
   "source": [
    "pred_four = neural_network_four(input, weights)\n",
    "print(pred_four)"
   ]
  },
  {
   "cell_type": "markdown",
   "metadata": {},
   "source": [
    "## 5. Predicting on predictions\n"
   ]
  },
  {
   "cell_type": "code",
   "execution_count": 65,
   "metadata": {},
   "outputs": [
    {
     "name": "stdout",
     "output_type": "stream",
     "text": [
      "[0.21350000000000002, 0.14500000000000002, 0.5065]\n"
     ]
    }
   ],
   "source": [
    "ih_wgt = [[0.1, 0.2, -0.1], # hid[0]\n",
    "          [-0.1, 0.1, 0.9], # hid[1]\n",
    "          [0.1, 0.4, 0.1]] # hid[2]\n",
    " \n",
    "hp_wgt = [[0.3, 1.1, -0.3], # hurt?\n",
    "          [0.1, 0.2, 0.0], # win?\n",
    "          [0.0, 1.3, 0.1]] # sad?\n",
    "\n",
    "weights_ = [ih_wgt, hp_wgt]\n",
    "input_ = [toes[0],wlrec[0],nfans[0]]\n",
    "\n",
    "def neural_network_(input_, weights_):\n",
    "    hid = vect_mat_mult(input_,weights_[0])\n",
    "    pred_ = vect_mat_mult(hid,weights_[1])\n",
    "    return pred_\n",
    "\n",
    "\n",
    "pred_pred = neural_network_(input_, weights_)\n",
    "print(pred_pred)"
   ]
  },
  {
   "cell_type": "markdown",
   "metadata": {},
   "source": [
    "### Numpy Version"
   ]
  },
  {
   "cell_type": "code",
   "execution_count": 66,
   "metadata": {},
   "outputs": [],
   "source": [
    "# input\n",
    "toes = np.array([8.5, 9.5, 9.9, 9.0])\n",
    "wlrec = np.array([0.65,0.8, 0.8, 0.9])\n",
    "nfans = np.array([1.2, 1.3, 0.5, 1.0])\n",
    "\n",
    "# weights\n",
    "ih_wgt = np.array([[0.1, 0.2, -0.1], \n",
    "                   [-0.1, 0.1, 0.9], \n",
    "                   [0.1, 0.4, 0.1]])\n",
    "\n",
    "hp_wgt = np.array([[0.3, 1.1, -0.3], \n",
    "                   [0.1, 0.2, 0.0], \n",
    "                   [0.0, 1.3, 0.1]])\n",
    "\n",
    "weights_np = [ih_wgt, hp_wgt]\n",
    "\n",
    "def neural_net(input_np, weights_np):\n",
    "    hid = input_np.dot(weights_np[0])\n",
    "    pred_np = hid.dot(weights_np[1])\n",
    "    return pred_np\n",
    "\n",
    "input_np = np.array([])"
   ]
  },
  {
   "cell_type": "code",
   "execution_count": null,
   "metadata": {},
   "outputs": [],
   "source": []
  }
 ],
 "metadata": {
  "kernelspec": {
   "display_name": "Python 3",
   "language": "python",
   "name": "python3"
  },
  "language_info": {
   "codemirror_mode": {
    "name": "ipython",
    "version": 3
   },
   "file_extension": ".py",
   "mimetype": "text/x-python",
   "name": "python",
   "nbconvert_exporter": "python",
   "pygments_lexer": "ipython3",
   "version": "3.7.4"
  }
 },
 "nbformat": 4,
 "nbformat_minor": 2
}
